{
 "cells": [
  {
   "cell_type": "markdown",
   "id": "9cad47d4",
   "metadata": {},
   "source": [
    "# ============================================================="
   ]
  },
  {
   "cell_type": "markdown",
   "id": "a9bc8bb3",
   "metadata": {},
   "source": [
    "# Data cleansing and some random analysis for data in CSV file \"example_data_1000_pages_scraped.csv\""
   ]
  },
  {
   "cell_type": "markdown",
   "id": "99fc27b3",
   "metadata": {},
   "source": [
    "### Basic questions answered in this file:"
   ]
  },
  {
   "cell_type": "markdown",
   "id": "355422ef",
   "metadata": {},
   "source": [
    "#### (Q.1) How many districts are represented on this website?\n",
    "#### (Q.2) Which 10 districts have the most listings on this website?\n",
    "#### (Q.3) What are the 10 most expensive, and 10 cheapest districts in terms of lease price per saleable sqft?\n",
    "#### (Q.4) How much more expensive are listings with the tag \"Sea view\" compared to those without?"
   ]
  },
  {
   "cell_type": "markdown",
   "id": "3893fe74",
   "metadata": {},
   "source": [
    "# ============================================================="
   ]
  },
  {
   "cell_type": "markdown",
   "id": "40d3ce0a",
   "metadata": {},
   "source": [
    "# Dataframe and libraries setup"
   ]
  },
  {
   "cell_type": "code",
   "execution_count": 1,
   "id": "2b12e11d",
   "metadata": {},
   "outputs": [],
   "source": [
    "import pandas as pd\n",
    "import numpy as np\n",
    "import matplotlib.pyplot as plt\n",
    "import seaborn as sns\n",
    "sns.set()"
   ]
  },
  {
   "cell_type": "code",
   "execution_count": 2,
   "id": "fd1f879a",
   "metadata": {},
   "outputs": [],
   "source": [
    "custom_columns = ['description', 'link', 'district', 'address_1', 'address_2', 'size', 'price', 'agency', 'tags', 'blank_1', 'blank_2']"
   ]
  },
  {
   "cell_type": "code",
   "execution_count": 3,
   "id": "3e8e95c2",
   "metadata": {
    "scrolled": false
   },
   "outputs": [],
   "source": [
    "df = pd.read_csv('./example_data_1000 pages_scraped.csv', names = custom_columns)"
   ]
  },
  {
   "cell_type": "code",
   "execution_count": 4,
   "id": "c48ccdce",
   "metadata": {},
   "outputs": [
    {
     "data": {
      "text/html": [
       "<div>\n",
       "<style scoped>\n",
       "    .dataframe tbody tr th:only-of-type {\n",
       "        vertical-align: middle;\n",
       "    }\n",
       "\n",
       "    .dataframe tbody tr th {\n",
       "        vertical-align: top;\n",
       "    }\n",
       "\n",
       "    .dataframe thead th {\n",
       "        text-align: right;\n",
       "    }\n",
       "</style>\n",
       "<table border=\"1\" class=\"dataframe\">\n",
       "  <thead>\n",
       "    <tr style=\"text-align: right;\">\n",
       "      <th></th>\n",
       "      <th>description</th>\n",
       "      <th>link</th>\n",
       "      <th>district</th>\n",
       "      <th>address_1</th>\n",
       "      <th>address_2</th>\n",
       "      <th>size</th>\n",
       "      <th>price</th>\n",
       "      <th>agency</th>\n",
       "      <th>tags</th>\n",
       "      <th>blank_1</th>\n",
       "      <th>blank_2</th>\n",
       "    </tr>\n",
       "  </thead>\n",
       "  <tbody>\n",
       "    <tr>\n",
       "      <th>14998</th>\n",
       "      <td>High-rise 2-bedroom mountain view</td>\n",
       "      <td>https://www.28hse.com/en/rent/residential/prop...</td>\n",
       "      <td>Shek Tong Tsui</td>\n",
       "      <td>Lun Fung Court</td>\n",
       "      <td>Unit D, Mid Floor, Middle Floor</td>\n",
       "      <td>Saleable Area: 369 ft² @44.7</td>\n",
       "      <td>Lease HKD$16,500</td>\n",
       "      <td>Joe Asia Property Agency</td>\n",
       "      <td>['Stand-alone Building', 'Mountain view']</td>\n",
       "      <td>NaN</td>\n",
       "      <td>NaN</td>\n",
       "    </tr>\n",
       "    <tr>\n",
       "      <th>14999</th>\n",
       "      <td>Convenient transportation and comfortable envi...</td>\n",
       "      <td>https://www.28hse.com/en/rent/residential/prop...</td>\n",
       "      <td>Tai Wai</td>\n",
       "      <td>Festival City</td>\n",
       "      <td>Unit Nb, High Floor, Tower 5, Phase Iii</td>\n",
       "      <td>Gross Area: 1,273 ft² @27.5\\nSaleable Area: 96...</td>\n",
       "      <td>Lease HKD$35,000</td>\n",
       "      <td>Centaline Property Agency Limited</td>\n",
       "      <td>['Apartment']</td>\n",
       "      <td>NaN</td>\n",
       "      <td>NaN</td>\n",
       "    </tr>\n",
       "  </tbody>\n",
       "</table>\n",
       "</div>"
      ],
      "text/plain": [
       "                                             description  \\\n",
       "14998                  High-rise 2-bedroom mountain view   \n",
       "14999  Convenient transportation and comfortable envi...   \n",
       "\n",
       "                                                    link        district  \\\n",
       "14998  https://www.28hse.com/en/rent/residential/prop...  Shek Tong Tsui   \n",
       "14999  https://www.28hse.com/en/rent/residential/prop...         Tai Wai   \n",
       "\n",
       "            address_1                                address_2  \\\n",
       "14998  Lun Fung Court          Unit D, Mid Floor, Middle Floor   \n",
       "14999   Festival City  Unit Nb, High Floor, Tower 5, Phase Iii   \n",
       "\n",
       "                                                    size             price  \\\n",
       "14998                       Saleable Area: 369 ft² @44.7  Lease HKD$16,500   \n",
       "14999  Gross Area: 1,273 ft² @27.5\\nSaleable Area: 96...  Lease HKD$35,000   \n",
       "\n",
       "                                  agency  \\\n",
       "14998           Joe Asia Property Agency   \n",
       "14999  Centaline Property Agency Limited   \n",
       "\n",
       "                                            tags blank_1 blank_2  \n",
       "14998  ['Stand-alone Building', 'Mountain view']     NaN     NaN  \n",
       "14999                              ['Apartment']     NaN     NaN  "
      ]
     },
     "execution_count": 4,
     "metadata": {},
     "output_type": "execute_result"
    }
   ],
   "source": [
    "df.tail(2)"
   ]
  },
  {
   "cell_type": "markdown",
   "id": "8c74acc9",
   "metadata": {},
   "source": [
    "# Data cleaning"
   ]
  },
  {
   "cell_type": "markdown",
   "id": "14d4ee9d",
   "metadata": {},
   "source": [
    "## Fixing incorrect data"
   ]
  },
  {
   "cell_type": "code",
   "execution_count": 5,
   "id": "b5c9401b",
   "metadata": {
    "scrolled": true
   },
   "outputs": [
    {
     "data": {
      "text/html": [
       "<div>\n",
       "<style scoped>\n",
       "    .dataframe tbody tr th:only-of-type {\n",
       "        vertical-align: middle;\n",
       "    }\n",
       "\n",
       "    .dataframe tbody tr th {\n",
       "        vertical-align: top;\n",
       "    }\n",
       "\n",
       "    .dataframe thead th {\n",
       "        text-align: right;\n",
       "    }\n",
       "</style>\n",
       "<table border=\"1\" class=\"dataframe\">\n",
       "  <thead>\n",
       "    <tr style=\"text-align: right;\">\n",
       "      <th></th>\n",
       "      <th>description</th>\n",
       "      <th>link</th>\n",
       "      <th>district</th>\n",
       "      <th>address_1</th>\n",
       "      <th>address_2</th>\n",
       "      <th>size</th>\n",
       "      <th>price</th>\n",
       "      <th>agency</th>\n",
       "      <th>tags</th>\n",
       "      <th>blank_1</th>\n",
       "      <th>blank_2</th>\n",
       "    </tr>\n",
       "  </thead>\n",
       "  <tbody>\n",
       "    <tr>\n",
       "      <th>807</th>\n",
       "      <td>Suite in a western-style building in the city ...</td>\n",
       "      <td>the upper floors are open and spacious</td>\n",
       "      <td>https://www.28hse.com/en/rent/residential/prop...</td>\n",
       "      <td>Kwun Tong</td>\n",
       "      <td>Cambridge Building</td>\n",
       "      <td>High Floor</td>\n",
       "      <td>Saleable Area: 100 ft² @55</td>\n",
       "      <td>Lease HKD$5,500</td>\n",
       "      <td>Hing Yip Property</td>\n",
       "      <td>['Studio , 1 bathrooms', 'South east', 'Wester...</td>\n",
       "      <td>NaN</td>\n",
       "    </tr>\n",
       "    <tr>\n",
       "      <th>973</th>\n",
       "      <td>Tenement building in the city center</td>\n",
       "      <td>2 rooms on the middle floor</td>\n",
       "      <td>https://www.28hse.com/en/rent/residential/prop...</td>\n",
       "      <td>Kwun Tong</td>\n",
       "      <td>Hong Wah Building</td>\n",
       "      <td>Full Layer</td>\n",
       "      <td>Saleable Area: 260 ft² @34.6</td>\n",
       "      <td>Lease HKD$9,000</td>\n",
       "      <td>Hing Yip Property</td>\n",
       "      <td>['Stand-alone Building']</td>\n",
       "      <td>NaN</td>\n",
       "    </tr>\n",
       "    <tr>\n",
       "      <th>4736</th>\n",
       "      <td>High-rise studio fl with 56sq.ft sky balcony</td>\n",
       "      <td>1 minute direct access to MTR</td>\n",
       "      <td>https://www.28hse.com/en/rent/residential/prop...</td>\n",
       "      <td>Kennedy Town</td>\n",
       "      <td>Smithfield Terrace</td>\n",
       "      <td>Unit C3, High Floor, Block C</td>\n",
       "      <td>Saleable Area: 236 ft² @53</td>\n",
       "      <td>Lease HKD$12,500</td>\n",
       "      <td>Winful Property Company</td>\n",
       "      <td>['Apartment', 'Mountain view', 'Good view', 'B...</td>\n",
       "      <td>NaN</td>\n",
       "    </tr>\n",
       "    <tr>\n",
       "      <th>5949</th>\n",
       "      <td>『AVA55』 One bedroom and one living room</td>\n",
       "      <td>Extra large platform</td>\n",
       "      <td>Brand new building [41 校 网]</td>\n",
       "      <td>https://www.28hse.com/en/rent/residential/prop...</td>\n",
       "      <td>Kowloon City</td>\n",
       "      <td>Apartment</td>\n",
       "      <td>Full Layer, High Floor</td>\n",
       "      <td>Saleable Area: 230 ft² @60</td>\n",
       "      <td>Lease HKD$13,800</td>\n",
       "      <td>S’uni Property Agency Limited</td>\n",
       "      <td>['Stand-alone Building']</td>\n",
       "    </tr>\n",
       "    <tr>\n",
       "      <th>6406</th>\n",
       "      <td>Features among features ~ Rooftop over a thous...</td>\n",
       "      <td>super large platform</td>\n",
       "      <td>https://www.28hse.com/en/rent/residential/prop...</td>\n",
       "      <td>Hung Hom</td>\n",
       "      <td>Chatham Gate</td>\n",
       "      <td>Unit A, High Floor, Tower 2</td>\n",
       "      <td>Saleable Area: 3,176 ft² @56.7</td>\n",
       "      <td>Lease HKD$180,000</td>\n",
       "      <td>Midland Reality</td>\n",
       "      <td>['Apartment', 'Elegant', 'Roof top', 'Clubhous...</td>\n",
       "      <td>NaN</td>\n",
       "    </tr>\n",
       "    <tr>\n",
       "      <th>10247</th>\n",
       "      <td>The new clubhouse</td>\n",
       "      <td>you can make an appointment</td>\n",
       "      <td>https://www.28hse.com/en/rent/residential/prop...</td>\n",
       "      <td>Shaukeiwan</td>\n",
       "      <td>Monti</td>\n",
       "      <td>Unit D, Mid Floor, Middle Floor</td>\n",
       "      <td>Saleable Area: 286 ft² @54.2</td>\n",
       "      <td>Lease HKD$15,500</td>\n",
       "      <td>Ysy Housing Agency</td>\n",
       "      <td>['Luxury']</td>\n",
       "      <td>NaN</td>\n",
       "    </tr>\n",
       "    <tr>\n",
       "      <th>14482</th>\n",
       "      <td>Century Link - Relatively NEW 2BR</td>\n",
       "      <td>No Agency Fees</td>\n",
       "      <td>https://www.28hse.com/en/rent/residential/prop...</td>\n",
       "      <td>Tung Chung</td>\n",
       "      <td>Century Link</td>\n",
       "      <td>Room 12, Middle Floor, Tower 2B, East Central ...</td>\n",
       "      <td>Saleable Area: 456 ft² @34.6</td>\n",
       "      <td>Lease HKD$15,800</td>\n",
       "      <td>NaN</td>\n",
       "      <td>['landlord', 'Apartment', 'Garden view', 'Sea ...</td>\n",
       "      <td>NaN</td>\n",
       "    </tr>\n",
       "  </tbody>\n",
       "</table>\n",
       "</div>"
      ],
      "text/plain": [
       "                                             description  \\\n",
       "807    Suite in a western-style building in the city ...   \n",
       "973                 Tenement building in the city center   \n",
       "4736       High-rise studio fl with 56sq.ft sky balcony    \n",
       "5949             『AVA55』 One bedroom and one living room   \n",
       "6406   Features among features ~ Rooftop over a thous...   \n",
       "10247                                  The new clubhouse   \n",
       "14482                  Century Link - Relatively NEW 2BR   \n",
       "\n",
       "                                          link  \\\n",
       "807     the upper floors are open and spacious   \n",
       "973                2 rooms on the middle floor   \n",
       "4736             1 minute direct access to MTR   \n",
       "5949                      Extra large platform   \n",
       "6406                      super large platform   \n",
       "10247              you can make an appointment   \n",
       "14482                           No Agency Fees   \n",
       "\n",
       "                                                district  \\\n",
       "807    https://www.28hse.com/en/rent/residential/prop...   \n",
       "973    https://www.28hse.com/en/rent/residential/prop...   \n",
       "4736   https://www.28hse.com/en/rent/residential/prop...   \n",
       "5949                         Brand new building [41 校 网]   \n",
       "6406   https://www.28hse.com/en/rent/residential/prop...   \n",
       "10247  https://www.28hse.com/en/rent/residential/prop...   \n",
       "14482  https://www.28hse.com/en/rent/residential/prop...   \n",
       "\n",
       "                                               address_1           address_2  \\\n",
       "807                                            Kwun Tong  Cambridge Building   \n",
       "973                                            Kwun Tong   Hong Wah Building   \n",
       "4736                                        Kennedy Town  Smithfield Terrace   \n",
       "5949   https://www.28hse.com/en/rent/residential/prop...        Kowloon City   \n",
       "6406                                            Hung Hom        Chatham Gate   \n",
       "10247                                         Shaukeiwan               Monti   \n",
       "14482                                         Tung Chung        Century Link   \n",
       "\n",
       "                                                    size  \\\n",
       "807                                           High Floor   \n",
       "973                                           Full Layer   \n",
       "4736                        Unit C3, High Floor, Block C   \n",
       "5949                                           Apartment   \n",
       "6406                         Unit A, High Floor, Tower 2   \n",
       "10247                    Unit D, Mid Floor, Middle Floor   \n",
       "14482  Room 12, Middle Floor, Tower 2B, East Central ...   \n",
       "\n",
       "                                price                      agency  \\\n",
       "807        Saleable Area: 100 ft² @55             Lease HKD$5,500   \n",
       "973      Saleable Area: 260 ft² @34.6             Lease HKD$9,000   \n",
       "4736       Saleable Area: 236 ft² @53            Lease HKD$12,500   \n",
       "5949           Full Layer, High Floor  Saleable Area: 230 ft² @60   \n",
       "6406   Saleable Area: 3,176 ft² @56.7           Lease HKD$180,000   \n",
       "10247    Saleable Area: 286 ft² @54.2            Lease HKD$15,500   \n",
       "14482    Saleable Area: 456 ft² @34.6            Lease HKD$15,800   \n",
       "\n",
       "                          tags  \\\n",
       "807          Hing Yip Property   \n",
       "973          Hing Yip Property   \n",
       "4736   Winful Property Company   \n",
       "5949          Lease HKD$13,800   \n",
       "6406           Midland Reality   \n",
       "10247       Ysy Housing Agency   \n",
       "14482                      NaN   \n",
       "\n",
       "                                                 blank_1  \\\n",
       "807    ['Studio , 1 bathrooms', 'South east', 'Wester...   \n",
       "973                             ['Stand-alone Building']   \n",
       "4736   ['Apartment', 'Mountain view', 'Good view', 'B...   \n",
       "5949                       S’uni Property Agency Limited   \n",
       "6406   ['Apartment', 'Elegant', 'Roof top', 'Clubhous...   \n",
       "10247                                         ['Luxury']   \n",
       "14482  ['landlord', 'Apartment', 'Garden view', 'Sea ...   \n",
       "\n",
       "                        blank_2  \n",
       "807                         NaN  \n",
       "973                         NaN  \n",
       "4736                        NaN  \n",
       "5949   ['Stand-alone Building']  \n",
       "6406                        NaN  \n",
       "10247                       NaN  \n",
       "14482                       NaN  "
      ]
     },
     "execution_count": 5,
     "metadata": {},
     "output_type": "execute_result"
    }
   ],
   "source": [
    "# Find listings with misplaced data that was pushed to blank_1 and blank_2\n",
    "\n",
    "non_nan_mask = df['blank_1'].notnull()\n",
    "df[non_nan_mask]"
   ]
  },
  {
   "cell_type": "code",
   "execution_count": 6,
   "id": "2ed3786a",
   "metadata": {},
   "outputs": [],
   "source": [
    "# Listings with only link column populated incorrectly\n",
    "listings_to_fix = [807, 973, 4736, 6406, 10247, 14482]\n",
    "\n",
    "# Set 'Link' value to None\n",
    "for listing in listings_to_fix:    \n",
    "    df.iloc[listing]['link'] = None\n",
    "    \n",
    "    # Shift column data 1 spot to the left\n",
    "    df.iloc[listing, 1:] = df.iloc[listing, 1:].shift(-1)"
   ]
  },
  {
   "cell_type": "code",
   "execution_count": 7,
   "id": "31d0fab7",
   "metadata": {},
   "outputs": [],
   "source": [
    "# # Check\n",
    "# df.iloc[807]"
   ]
  },
  {
   "cell_type": "code",
   "execution_count": 8,
   "id": "a34f42bf",
   "metadata": {},
   "outputs": [],
   "source": [
    "# # Listing with link and district column populated incorrectly\n",
    "# df.iloc[5949]"
   ]
  },
  {
   "cell_type": "code",
   "execution_count": 9,
   "id": "0a7ef71e",
   "metadata": {},
   "outputs": [],
   "source": [
    "# Remove erroneous data and shift columns 2 to the left\n",
    "listings_to_fix = [5949, 10194]\n",
    "\n",
    "# Set 'link' and 'district' value to None\n",
    "for listing in listings_to_fix:    \n",
    "    df.iloc[listing]['link'] = None\n",
    "    \n",
    "    # Shift column data 1 spot to the left\n",
    "    df.iloc[listing, 1:] = df.iloc[listing, 1:].shift(-2)"
   ]
  },
  {
   "cell_type": "code",
   "execution_count": 10,
   "id": "26253df7",
   "metadata": {},
   "outputs": [],
   "source": [
    "# # Check\n",
    "# df.iloc[5949]"
   ]
  },
  {
   "cell_type": "code",
   "execution_count": 11,
   "id": "36f8bfd9",
   "metadata": {},
   "outputs": [
    {
     "data": {
      "text/html": [
       "<div>\n",
       "<style scoped>\n",
       "    .dataframe tbody tr th:only-of-type {\n",
       "        vertical-align: middle;\n",
       "    }\n",
       "\n",
       "    .dataframe tbody tr th {\n",
       "        vertical-align: top;\n",
       "    }\n",
       "\n",
       "    .dataframe thead th {\n",
       "        text-align: right;\n",
       "    }\n",
       "</style>\n",
       "<table border=\"1\" class=\"dataframe\">\n",
       "  <thead>\n",
       "    <tr style=\"text-align: right;\">\n",
       "      <th></th>\n",
       "      <th>description</th>\n",
       "      <th>link</th>\n",
       "      <th>district</th>\n",
       "      <th>address_1</th>\n",
       "      <th>address_2</th>\n",
       "      <th>size</th>\n",
       "      <th>price</th>\n",
       "      <th>agency</th>\n",
       "      <th>tags</th>\n",
       "      <th>blank_1</th>\n",
       "      <th>blank_2</th>\n",
       "    </tr>\n",
       "  </thead>\n",
       "  <tbody>\n",
       "  </tbody>\n",
       "</table>\n",
       "</div>"
      ],
      "text/plain": [
       "Empty DataFrame\n",
       "Columns: [description, link, district, address_1, address_2, size, price, agency, tags, blank_1, blank_2]\n",
       "Index: []"
      ]
     },
     "execution_count": 11,
     "metadata": {},
     "output_type": "execute_result"
    }
   ],
   "source": [
    "# Check if issues are resolved\n",
    "\n",
    "non_nan_mask = df['blank_1'].notnull()\n",
    "df[non_nan_mask]"
   ]
  },
  {
   "cell_type": "code",
   "execution_count": 12,
   "id": "609b141d",
   "metadata": {},
   "outputs": [],
   "source": [
    "# Remove blank_1 and blank_2 columns from df"
   ]
  },
  {
   "cell_type": "code",
   "execution_count": 13,
   "id": "b53d082a",
   "metadata": {},
   "outputs": [],
   "source": [
    "df.drop('blank_1', axis = 1, inplace = True)\n",
    "df.drop('blank_2', axis = 1, inplace = True)"
   ]
  },
  {
   "cell_type": "markdown",
   "id": "9a687821",
   "metadata": {},
   "source": [
    "## Replacing NaN values in 'tags' column with empty lists\n"
   ]
  },
  {
   "cell_type": "code",
   "execution_count": 14,
   "id": "a504b384",
   "metadata": {},
   "outputs": [],
   "source": [
    "df['tags'] = df['tags'].apply(lambda x: [] if pd.isna(x) else x)"
   ]
  },
  {
   "cell_type": "markdown",
   "id": "2aa0203b",
   "metadata": {},
   "source": [
    "## Extracting numericals from 'price' data and changing to type int"
   ]
  },
  {
   "cell_type": "code",
   "execution_count": 15,
   "id": "70c36679",
   "metadata": {},
   "outputs": [],
   "source": [
    "# Check for any wrong data in column\n",
    "for k, v in df['price'].items():\n",
    "    if '$' not in v:\n",
    "        print(k, v)"
   ]
  },
  {
   "cell_type": "code",
   "execution_count": 16,
   "id": "f5f3a5cf",
   "metadata": {},
   "outputs": [],
   "source": [
    "# Extract numerical data from 'price', remove commas, change to type int\n",
    "def extract_int(cell):\n",
    "    num = int(cell.split('$')[1].replace(\",\", \"\"))\n",
    "    return(num)\n",
    "\n",
    "# Test\n",
    "# extract_int(\"Lease HKD$15,000\")"
   ]
  },
  {
   "cell_type": "code",
   "execution_count": 17,
   "id": "edd00d2a",
   "metadata": {
    "scrolled": true
   },
   "outputs": [],
   "source": [
    "df['price'] = df['price'].apply(extract_int)"
   ]
  },
  {
   "cell_type": "code",
   "execution_count": 18,
   "id": "d72ea5e7",
   "metadata": {
    "scrolled": true
   },
   "outputs": [
    {
     "data": {
      "text/html": [
       "<div>\n",
       "<style scoped>\n",
       "    .dataframe tbody tr th:only-of-type {\n",
       "        vertical-align: middle;\n",
       "    }\n",
       "\n",
       "    .dataframe tbody tr th {\n",
       "        vertical-align: top;\n",
       "    }\n",
       "\n",
       "    .dataframe thead th {\n",
       "        text-align: right;\n",
       "    }\n",
       "</style>\n",
       "<table border=\"1\" class=\"dataframe\">\n",
       "  <thead>\n",
       "    <tr style=\"text-align: right;\">\n",
       "      <th></th>\n",
       "      <th>description</th>\n",
       "      <th>link</th>\n",
       "      <th>district</th>\n",
       "      <th>address_1</th>\n",
       "      <th>address_2</th>\n",
       "      <th>size</th>\n",
       "      <th>price</th>\n",
       "      <th>agency</th>\n",
       "      <th>tags</th>\n",
       "    </tr>\n",
       "  </thead>\n",
       "  <tbody>\n",
       "    <tr>\n",
       "      <th>0</th>\n",
       "      <td>Kintetsu used duplex sky garden | with recharg...</td>\n",
       "      <td>https://www.28hse.com/en/rent/residential/prop...</td>\n",
       "      <td>Yuen Long</td>\n",
       "      <td>Village</td>\n",
       "      <td>House, High Floor</td>\n",
       "      <td>Saleable Area: 1,400 ft² @10.7</td>\n",
       "      <td>15000</td>\n",
       "      <td>Leader Properties Development Limited</td>\n",
       "      <td>['3 bedrooms , 2 bathrooms', 'Apartment', 'Vil...</td>\n",
       "    </tr>\n",
       "    <tr>\n",
       "      <th>1</th>\n",
       "      <td>*Ever Bright*causeway bay near mtr station, ne...</td>\n",
       "      <td>https://www.28hse.com/en/rent/residential/prop...</td>\n",
       "      <td>Causeway Bay</td>\n",
       "      <td>Lockhart House</td>\n",
       "      <td>High Floor, Block A</td>\n",
       "      <td>Saleable Area: 447 ft² @41.4</td>\n",
       "      <td>18500</td>\n",
       "      <td>Ever Bright Realty Company Limited</td>\n",
       "      <td>['2 bedrooms , 1 bathrooms', 'Apartment']</td>\n",
       "    </tr>\n",
       "  </tbody>\n",
       "</table>\n",
       "</div>"
      ],
      "text/plain": [
       "                                         description  \\\n",
       "0  Kintetsu used duplex sky garden | with recharg...   \n",
       "1  *Ever Bright*causeway bay near mtr station, ne...   \n",
       "\n",
       "                                                link      district  \\\n",
       "0  https://www.28hse.com/en/rent/residential/prop...     Yuen Long   \n",
       "1  https://www.28hse.com/en/rent/residential/prop...  Causeway Bay   \n",
       "\n",
       "        address_1            address_2                            size  price  \\\n",
       "0         Village    House, High Floor  Saleable Area: 1,400 ft² @10.7  15000   \n",
       "1  Lockhart House  High Floor, Block A    Saleable Area: 447 ft² @41.4  18500   \n",
       "\n",
       "                                  agency  \\\n",
       "0  Leader Properties Development Limited   \n",
       "1     Ever Bright Realty Company Limited   \n",
       "\n",
       "                                                tags  \n",
       "0  ['3 bedrooms , 2 bathrooms', 'Apartment', 'Vil...  \n",
       "1          ['2 bedrooms , 1 bathrooms', 'Apartment']  "
      ]
     },
     "execution_count": 18,
     "metadata": {},
     "output_type": "execute_result"
    }
   ],
   "source": [
    "df.head(2)"
   ]
  },
  {
   "cell_type": "markdown",
   "id": "699c6438",
   "metadata": {},
   "source": [
    "## Splitting 'size' data into 'saleable' and 'gross'"
   ]
  },
  {
   "cell_type": "code",
   "execution_count": 19,
   "id": "d1da9730",
   "metadata": {},
   "outputs": [],
   "source": [
    "# Check for any wrong data in column\n",
    "for k, v in df['size'].items():\n",
    "    if 'Gross' not in v and 'Saleable' not in v:\n",
    "        print(k, v)"
   ]
  },
  {
   "cell_type": "code",
   "execution_count": 20,
   "id": "311ca965",
   "metadata": {},
   "outputs": [],
   "source": [
    "# Extract numerical values from df['size'], append the saleable value to s_values\n",
    "# and gross values to g_values\n",
    "\n",
    "s_values = []\n",
    "g_values = []\n",
    "for k, v in df['size'].items():\n",
    "    if 'Gross' in v and 'Saleable' in v:\n",
    "        s_values.append(int(v.split(' ')[6].replace(\",\", \"\")))\n",
    "        g_values.append(v.split(' ')[2].replace(\",\", \"\"))\n",
    "    \n",
    "    elif 'Gross' not in v:\n",
    "        s_values.append(int(v.split(' ')[2].replace(\",\", \"\")))\n",
    "        g_values.append('')\n",
    "        \n",
    "    elif 'Saleable' not in v:\n",
    "        g_values.append(int(v.split(' ')[2].replace(\",\", \"\")))\n",
    "        s_values.append('')"
   ]
  },
  {
   "cell_type": "code",
   "execution_count": 21,
   "id": "ea42ad10",
   "metadata": {},
   "outputs": [],
   "source": [
    "df['saleable_sqft'] = s_values"
   ]
  },
  {
   "cell_type": "code",
   "execution_count": 22,
   "id": "36709e39",
   "metadata": {},
   "outputs": [],
   "source": [
    "df['gross_sqft'] = g_values"
   ]
  },
  {
   "cell_type": "code",
   "execution_count": 23,
   "id": "ec61180b",
   "metadata": {
    "scrolled": true
   },
   "outputs": [
    {
     "data": {
      "text/html": [
       "<div>\n",
       "<style scoped>\n",
       "    .dataframe tbody tr th:only-of-type {\n",
       "        vertical-align: middle;\n",
       "    }\n",
       "\n",
       "    .dataframe tbody tr th {\n",
       "        vertical-align: top;\n",
       "    }\n",
       "\n",
       "    .dataframe thead th {\n",
       "        text-align: right;\n",
       "    }\n",
       "</style>\n",
       "<table border=\"1\" class=\"dataframe\">\n",
       "  <thead>\n",
       "    <tr style=\"text-align: right;\">\n",
       "      <th></th>\n",
       "      <th>description</th>\n",
       "      <th>link</th>\n",
       "      <th>district</th>\n",
       "      <th>address_1</th>\n",
       "      <th>address_2</th>\n",
       "      <th>size</th>\n",
       "      <th>price</th>\n",
       "      <th>agency</th>\n",
       "      <th>tags</th>\n",
       "      <th>saleable_sqft</th>\n",
       "      <th>gross_sqft</th>\n",
       "    </tr>\n",
       "  </thead>\n",
       "  <tbody>\n",
       "    <tr>\n",
       "      <th>0</th>\n",
       "      <td>Kintetsu used duplex sky garden | with recharg...</td>\n",
       "      <td>https://www.28hse.com/en/rent/residential/prop...</td>\n",
       "      <td>Yuen Long</td>\n",
       "      <td>Village</td>\n",
       "      <td>House, High Floor</td>\n",
       "      <td>Saleable Area: 1,400 ft² @10.7</td>\n",
       "      <td>15000</td>\n",
       "      <td>Leader Properties Development Limited</td>\n",
       "      <td>['3 bedrooms , 2 bathrooms', 'Apartment', 'Vil...</td>\n",
       "      <td>1400</td>\n",
       "      <td></td>\n",
       "    </tr>\n",
       "    <tr>\n",
       "      <th>1</th>\n",
       "      <td>*Ever Bright*causeway bay near mtr station, ne...</td>\n",
       "      <td>https://www.28hse.com/en/rent/residential/prop...</td>\n",
       "      <td>Causeway Bay</td>\n",
       "      <td>Lockhart House</td>\n",
       "      <td>High Floor, Block A</td>\n",
       "      <td>Saleable Area: 447 ft² @41.4</td>\n",
       "      <td>18500</td>\n",
       "      <td>Ever Bright Realty Company Limited</td>\n",
       "      <td>['2 bedrooms , 1 bathrooms', 'Apartment']</td>\n",
       "      <td>447</td>\n",
       "      <td></td>\n",
       "    </tr>\n",
       "    <tr>\n",
       "      <th>2</th>\n",
       "      <td>Suite for rent at Sai Yeung Choi Street South,...</td>\n",
       "      <td>https://www.28hse.com/en/rent/residential/prop...</td>\n",
       "      <td>Mong Kok</td>\n",
       "      <td>Sai Yeung Building</td>\n",
       "      <td>Mid Floor, Middle Floor</td>\n",
       "      <td>Saleable Area: 150 ft² @56.7</td>\n",
       "      <td>8500</td>\n",
       "      <td>NaN</td>\n",
       "      <td>['Studio , 1 bathrooms', 'landlord', 'Western ...</td>\n",
       "      <td>150</td>\n",
       "      <td></td>\n",
       "    </tr>\n",
       "    <tr>\n",
       "      <th>3</th>\n",
       "      <td>1 activity room, suitable for single aristocra...</td>\n",
       "      <td>https://www.28hse.com/en/rent/residential/prop...</td>\n",
       "      <td>Kai Tak</td>\n",
       "      <td>K. Summit</td>\n",
       "      <td>Unit E, Low Floor, Tower 1B</td>\n",
       "      <td>Saleable Area: 287 ft² @53.3</td>\n",
       "      <td>15300</td>\n",
       "      <td>NaN</td>\n",
       "      <td>['1 bedrooms , 1 bathrooms', 'landlord', 'Apar...</td>\n",
       "      <td>287</td>\n",
       "      <td></td>\n",
       "    </tr>\n",
       "    <tr>\n",
       "      <th>4</th>\n",
       "      <td>✪✪[Big 2 bedrooms with a large kitchen, clean ...</td>\n",
       "      <td>https://www.28hse.com/en/rent/residential/prop...</td>\n",
       "      <td>Ho Man Tin</td>\n",
       "      <td>Mantin Heights</td>\n",
       "      <td>Mid Floor, Tower 9, Middle Floor</td>\n",
       "      <td>Saleable Area: 585 ft² @45.3</td>\n",
       "      <td>26500</td>\n",
       "      <td>Century 21 Links Properties Agency</td>\n",
       "      <td>['2 bedrooms , 1 bathrooms', 'Apartment', 'Sta...</td>\n",
       "      <td>585</td>\n",
       "      <td></td>\n",
       "    </tr>\n",
       "  </tbody>\n",
       "</table>\n",
       "</div>"
      ],
      "text/plain": [
       "                                         description  \\\n",
       "0  Kintetsu used duplex sky garden | with recharg...   \n",
       "1  *Ever Bright*causeway bay near mtr station, ne...   \n",
       "2  Suite for rent at Sai Yeung Choi Street South,...   \n",
       "3  1 activity room, suitable for single aristocra...   \n",
       "4  ✪✪[Big 2 bedrooms with a large kitchen, clean ...   \n",
       "\n",
       "                                                link      district  \\\n",
       "0  https://www.28hse.com/en/rent/residential/prop...     Yuen Long   \n",
       "1  https://www.28hse.com/en/rent/residential/prop...  Causeway Bay   \n",
       "2  https://www.28hse.com/en/rent/residential/prop...      Mong Kok   \n",
       "3  https://www.28hse.com/en/rent/residential/prop...       Kai Tak   \n",
       "4  https://www.28hse.com/en/rent/residential/prop...    Ho Man Tin   \n",
       "\n",
       "            address_1                         address_2  \\\n",
       "0             Village                 House, High Floor   \n",
       "1      Lockhart House               High Floor, Block A   \n",
       "2  Sai Yeung Building           Mid Floor, Middle Floor   \n",
       "3           K. Summit       Unit E, Low Floor, Tower 1B   \n",
       "4      Mantin Heights  Mid Floor, Tower 9, Middle Floor   \n",
       "\n",
       "                             size  price  \\\n",
       "0  Saleable Area: 1,400 ft² @10.7  15000   \n",
       "1    Saleable Area: 447 ft² @41.4  18500   \n",
       "2    Saleable Area: 150 ft² @56.7   8500   \n",
       "3    Saleable Area: 287 ft² @53.3  15300   \n",
       "4    Saleable Area: 585 ft² @45.3  26500   \n",
       "\n",
       "                                  agency  \\\n",
       "0  Leader Properties Development Limited   \n",
       "1     Ever Bright Realty Company Limited   \n",
       "2                                    NaN   \n",
       "3                                    NaN   \n",
       "4     Century 21 Links Properties Agency   \n",
       "\n",
       "                                                tags saleable_sqft gross_sqft  \n",
       "0  ['3 bedrooms , 2 bathrooms', 'Apartment', 'Vil...          1400             \n",
       "1          ['2 bedrooms , 1 bathrooms', 'Apartment']           447             \n",
       "2  ['Studio , 1 bathrooms', 'landlord', 'Western ...           150             \n",
       "3  ['1 bedrooms , 1 bathrooms', 'landlord', 'Apar...           287             \n",
       "4  ['2 bedrooms , 1 bathrooms', 'Apartment', 'Sta...           585             "
      ]
     },
     "execution_count": 23,
     "metadata": {},
     "output_type": "execute_result"
    }
   ],
   "source": [
    "df.head()"
   ]
  },
  {
   "cell_type": "markdown",
   "id": "7bf65c0b",
   "metadata": {},
   "source": [
    "## Add 'hkd/saleable_sqft' column"
   ]
  },
  {
   "cell_type": "code",
   "execution_count": 24,
   "id": "bac6bdd4",
   "metadata": {},
   "outputs": [],
   "source": [
    "df['price'] = df['price'].astype(float)"
   ]
  },
  {
   "cell_type": "code",
   "execution_count": 25,
   "id": "68addeea",
   "metadata": {},
   "outputs": [],
   "source": [
    "df['saleable_sqft'] = df['saleable_sqft'].replace('', np.nan).astype(float)"
   ]
  },
  {
   "cell_type": "code",
   "execution_count": 26,
   "id": "54197a3b",
   "metadata": {},
   "outputs": [],
   "source": [
    "df['hkd/saleable_sqft'] = (df['price']/df['saleable_sqft']).round(2)"
   ]
  },
  {
   "cell_type": "code",
   "execution_count": 27,
   "id": "2505b845",
   "metadata": {},
   "outputs": [
    {
     "data": {
      "text/html": [
       "<div>\n",
       "<style scoped>\n",
       "    .dataframe tbody tr th:only-of-type {\n",
       "        vertical-align: middle;\n",
       "    }\n",
       "\n",
       "    .dataframe tbody tr th {\n",
       "        vertical-align: top;\n",
       "    }\n",
       "\n",
       "    .dataframe thead th {\n",
       "        text-align: right;\n",
       "    }\n",
       "</style>\n",
       "<table border=\"1\" class=\"dataframe\">\n",
       "  <thead>\n",
       "    <tr style=\"text-align: right;\">\n",
       "      <th></th>\n",
       "      <th>description</th>\n",
       "      <th>link</th>\n",
       "      <th>district</th>\n",
       "      <th>address_1</th>\n",
       "      <th>address_2</th>\n",
       "      <th>size</th>\n",
       "      <th>price</th>\n",
       "      <th>agency</th>\n",
       "      <th>tags</th>\n",
       "      <th>saleable_sqft</th>\n",
       "      <th>gross_sqft</th>\n",
       "      <th>hkd/saleable_sqft</th>\n",
       "    </tr>\n",
       "  </thead>\n",
       "  <tbody>\n",
       "    <tr>\n",
       "      <th>0</th>\n",
       "      <td>Kintetsu used duplex sky garden | with recharg...</td>\n",
       "      <td>https://www.28hse.com/en/rent/residential/prop...</td>\n",
       "      <td>Yuen Long</td>\n",
       "      <td>Village</td>\n",
       "      <td>House, High Floor</td>\n",
       "      <td>Saleable Area: 1,400 ft² @10.7</td>\n",
       "      <td>15000.0</td>\n",
       "      <td>Leader Properties Development Limited</td>\n",
       "      <td>['3 bedrooms , 2 bathrooms', 'Apartment', 'Vil...</td>\n",
       "      <td>1400.0</td>\n",
       "      <td></td>\n",
       "      <td>10.71</td>\n",
       "    </tr>\n",
       "    <tr>\n",
       "      <th>1</th>\n",
       "      <td>*Ever Bright*causeway bay near mtr station, ne...</td>\n",
       "      <td>https://www.28hse.com/en/rent/residential/prop...</td>\n",
       "      <td>Causeway Bay</td>\n",
       "      <td>Lockhart House</td>\n",
       "      <td>High Floor, Block A</td>\n",
       "      <td>Saleable Area: 447 ft² @41.4</td>\n",
       "      <td>18500.0</td>\n",
       "      <td>Ever Bright Realty Company Limited</td>\n",
       "      <td>['2 bedrooms , 1 bathrooms', 'Apartment']</td>\n",
       "      <td>447.0</td>\n",
       "      <td></td>\n",
       "      <td>41.39</td>\n",
       "    </tr>\n",
       "    <tr>\n",
       "      <th>2</th>\n",
       "      <td>Suite for rent at Sai Yeung Choi Street South,...</td>\n",
       "      <td>https://www.28hse.com/en/rent/residential/prop...</td>\n",
       "      <td>Mong Kok</td>\n",
       "      <td>Sai Yeung Building</td>\n",
       "      <td>Mid Floor, Middle Floor</td>\n",
       "      <td>Saleable Area: 150 ft² @56.7</td>\n",
       "      <td>8500.0</td>\n",
       "      <td>NaN</td>\n",
       "      <td>['Studio , 1 bathrooms', 'landlord', 'Western ...</td>\n",
       "      <td>150.0</td>\n",
       "      <td></td>\n",
       "      <td>56.67</td>\n",
       "    </tr>\n",
       "    <tr>\n",
       "      <th>3</th>\n",
       "      <td>1 activity room, suitable for single aristocra...</td>\n",
       "      <td>https://www.28hse.com/en/rent/residential/prop...</td>\n",
       "      <td>Kai Tak</td>\n",
       "      <td>K. Summit</td>\n",
       "      <td>Unit E, Low Floor, Tower 1B</td>\n",
       "      <td>Saleable Area: 287 ft² @53.3</td>\n",
       "      <td>15300.0</td>\n",
       "      <td>NaN</td>\n",
       "      <td>['1 bedrooms , 1 bathrooms', 'landlord', 'Apar...</td>\n",
       "      <td>287.0</td>\n",
       "      <td></td>\n",
       "      <td>53.31</td>\n",
       "    </tr>\n",
       "    <tr>\n",
       "      <th>4</th>\n",
       "      <td>✪✪[Big 2 bedrooms with a large kitchen, clean ...</td>\n",
       "      <td>https://www.28hse.com/en/rent/residential/prop...</td>\n",
       "      <td>Ho Man Tin</td>\n",
       "      <td>Mantin Heights</td>\n",
       "      <td>Mid Floor, Tower 9, Middle Floor</td>\n",
       "      <td>Saleable Area: 585 ft² @45.3</td>\n",
       "      <td>26500.0</td>\n",
       "      <td>Century 21 Links Properties Agency</td>\n",
       "      <td>['2 bedrooms , 1 bathrooms', 'Apartment', 'Sta...</td>\n",
       "      <td>585.0</td>\n",
       "      <td></td>\n",
       "      <td>45.30</td>\n",
       "    </tr>\n",
       "  </tbody>\n",
       "</table>\n",
       "</div>"
      ],
      "text/plain": [
       "                                         description  \\\n",
       "0  Kintetsu used duplex sky garden | with recharg...   \n",
       "1  *Ever Bright*causeway bay near mtr station, ne...   \n",
       "2  Suite for rent at Sai Yeung Choi Street South,...   \n",
       "3  1 activity room, suitable for single aristocra...   \n",
       "4  ✪✪[Big 2 bedrooms with a large kitchen, clean ...   \n",
       "\n",
       "                                                link      district  \\\n",
       "0  https://www.28hse.com/en/rent/residential/prop...     Yuen Long   \n",
       "1  https://www.28hse.com/en/rent/residential/prop...  Causeway Bay   \n",
       "2  https://www.28hse.com/en/rent/residential/prop...      Mong Kok   \n",
       "3  https://www.28hse.com/en/rent/residential/prop...       Kai Tak   \n",
       "4  https://www.28hse.com/en/rent/residential/prop...    Ho Man Tin   \n",
       "\n",
       "            address_1                         address_2  \\\n",
       "0             Village                 House, High Floor   \n",
       "1      Lockhart House               High Floor, Block A   \n",
       "2  Sai Yeung Building           Mid Floor, Middle Floor   \n",
       "3           K. Summit       Unit E, Low Floor, Tower 1B   \n",
       "4      Mantin Heights  Mid Floor, Tower 9, Middle Floor   \n",
       "\n",
       "                             size    price  \\\n",
       "0  Saleable Area: 1,400 ft² @10.7  15000.0   \n",
       "1    Saleable Area: 447 ft² @41.4  18500.0   \n",
       "2    Saleable Area: 150 ft² @56.7   8500.0   \n",
       "3    Saleable Area: 287 ft² @53.3  15300.0   \n",
       "4    Saleable Area: 585 ft² @45.3  26500.0   \n",
       "\n",
       "                                  agency  \\\n",
       "0  Leader Properties Development Limited   \n",
       "1     Ever Bright Realty Company Limited   \n",
       "2                                    NaN   \n",
       "3                                    NaN   \n",
       "4     Century 21 Links Properties Agency   \n",
       "\n",
       "                                                tags  saleable_sqft  \\\n",
       "0  ['3 bedrooms , 2 bathrooms', 'Apartment', 'Vil...         1400.0   \n",
       "1          ['2 bedrooms , 1 bathrooms', 'Apartment']          447.0   \n",
       "2  ['Studio , 1 bathrooms', 'landlord', 'Western ...          150.0   \n",
       "3  ['1 bedrooms , 1 bathrooms', 'landlord', 'Apar...          287.0   \n",
       "4  ['2 bedrooms , 1 bathrooms', 'Apartment', 'Sta...          585.0   \n",
       "\n",
       "  gross_sqft  hkd/saleable_sqft  \n",
       "0                         10.71  \n",
       "1                         41.39  \n",
       "2                         56.67  \n",
       "3                         53.31  \n",
       "4                         45.30  "
      ]
     },
     "execution_count": 27,
     "metadata": {},
     "output_type": "execute_result"
    }
   ],
   "source": [
    "df.head(5)"
   ]
  },
  {
   "cell_type": "markdown",
   "id": "b9247bb9",
   "metadata": {},
   "source": [
    "# Analysis"
   ]
  },
  {
   "cell_type": "code",
   "execution_count": 28,
   "id": "043feb08",
   "metadata": {},
   "outputs": [
    {
     "data": {
      "image/png": "[encoded data removed]",
      "text/plain": [
       "<Figure size 640x480 with 1 Axes>"
      ]
     },
     "metadata": {},
     "output_type": "display_data"
    }
   ],
   "source": [
    "plt.scatter(df['saleable_sqft'], df['price'], s = 5)\n",
    "plt.xlabel('Saleable Area (sqft)')\n",
    "plt.ylabel('Monthly Lease Price (HKD)')\n",
    "plt.title('Scatter Plot: Limit 5000 sqft and HKD140000 pm')\n",
    "plt.xlim(0, 5000)\n",
    "plt.ylim(0, 150000)\n",
    "plt.show()"
   ]
  },
  {
   "cell_type": "markdown",
   "id": "c9959963",
   "metadata": {},
   "source": [
    "## (Q.1) How many districts are represented on this website?"
   ]
  },
  {
   "cell_type": "code",
   "execution_count": 29,
   "id": "b78fd980",
   "metadata": {},
   "outputs": [
    {
     "data": {
      "text/plain": [
       "102"
      ]
     },
     "execution_count": 29,
     "metadata": {},
     "output_type": "execute_result"
    }
   ],
   "source": [
    "df['district'].nunique(dropna = True) "
   ]
  },
  {
   "cell_type": "code",
   "execution_count": 30,
   "id": "d2b3ab70",
   "metadata": {
    "scrolled": true
   },
   "outputs": [
    {
     "name": "stdout",
     "output_type": "stream",
     "text": [
      "['Yuen Long' 'Causeway Bay' 'Mong Kok' 'Kai Tak' 'Ho Man Tin' 'Ma Wan'\n",
      " 'Nam Cheong' 'Hung Hom' 'Tsuen Wan' 'To Kwa Wan' 'Shaukeiwan'\n",
      " 'Quarry Bay' 'Tsing Yi' 'Tai Wai' 'Tsim Sha Tsui' 'North Point'\n",
      " 'Sham Shui Po' 'Wan Chai' 'Kowloon Bay' 'Sheung Wan' 'Taikoo Shing'\n",
      " 'Tuen Mun Castle Peak Road' 'Tin Shui Wai' 'Tung Chung' 'Tai Po'\n",
      " 'Hung Shui Kiu' 'Lohas Park District' 'Ma On Shan' 'Yau Tong'\n",
      " 'Kowloon Tong' 'Jordan' 'Tai Kok Tsui' 'Kennedy Town' 'Prince Edward'\n",
      " 'Sai Ying Pun' 'Central' 'Happy Valley' 'Western Mid-levels' 'Fotan'\n",
      " 'Shatin' 'Kwai Chung' 'Kwai Fong' 'Yau Ma Tei' 'Tuen Mun'\n",
      " 'Cheung Sha Wan' 'Tseung Kwan O' 'Kowloon Station' 'Sheung Shui'\n",
      " 'Mei Foo' 'Baguio Villa' 'Lam Tin' 'Fanling' 'Tin Hau' 'Fortress Hill'\n",
      " 'South Horizons' 'Kwun Tong' 'South Lantau Island' 'Sai Wan Ho'\n",
      " 'San Po Kong' 'Tsuen Wan Sham Tseng' 'Sai Kung' 'Southern District'\n",
      " 'Kowloon City' 'North Point Mid' 'Olympic' 'Siu Sai Wan'\n",
      " 'Clear Water Bay' 'Shek Tong Tsui' 'Aberdeen' 'Mid-levels Central'\n",
      " 'Whampoa' 'Tai Wo Hau' 'Tai Hang' 'Wong Chuk Hang' 'Tai Wo'\n",
      " 'Shek Kip Mei' 'Yau Yat Tsuen' 'Repulse Bay' 'Tai Tam' 'Ngau Chi Wan'\n",
      " 'Lok Fu' 'Lai Chi Kok' 'Parkview' 'Heng Fa Chuen' 'Ngau Tau Kok'\n",
      " 'Pok Fu Lam' 'Wong Tai Sin' 'Chai Wan' 'Discovery Bay' 'Stanley'\n",
      " 'Ap Lei Chau' 'Shouson Hill' 'Shiu Fai Terrace' 'The Peak' 'Lamma Island'\n",
      " 'Jardine' 'Diamond Hill' 'Happy Valley Mid Level' 'Admiralty' 'Peng Chau'\n",
      " 'Cheung Chau' 'Lai King']\n"
     ]
    }
   ],
   "source": [
    "print(df['district'].unique())"
   ]
  },
  {
   "cell_type": "markdown",
   "id": "c685767e",
   "metadata": {},
   "source": [
    "### (A.1) There are 102 unique districts represented on this website"
   ]
  },
  {
   "cell_type": "markdown",
   "id": "f209440a",
   "metadata": {},
   "source": [
    "## (Q.2) Which 10 districts have the most listings on this website?"
   ]
  },
  {
   "cell_type": "code",
   "execution_count": 31,
   "id": "af8eebf9",
   "metadata": {},
   "outputs": [],
   "source": [
    "top_10_districts = df['district'].value_counts().head(10)"
   ]
  },
  {
   "cell_type": "code",
   "execution_count": 32,
   "id": "73f83cc6",
   "metadata": {},
   "outputs": [
    {
     "data": {
      "image/png": "[encoded data removed]",
      "text/plain": [
       "<Figure size 640x480 with 1 Axes>"
      ]
     },
     "metadata": {},
     "output_type": "display_data"
    }
   ],
   "source": [
    "top_10_districts.plot.bar()\n",
    "plt.xlabel('District')\n",
    "plt.ylabel('Count')\n",
    "plt.title('Top 10 Most Listings')\n",
    "plt.show()"
   ]
  },
  {
   "cell_type": "code",
   "execution_count": 33,
   "id": "0c05c9eb",
   "metadata": {},
   "outputs": [
    {
     "name": "stdout",
     "output_type": "stream",
     "text": [
      "Yuen Long                    833\n",
      "Mong Kok                     569\n",
      "Tsuen Wan                    561\n",
      "Tai Po                       511\n",
      "Tsim Sha Tsui                494\n",
      "Wan Chai                     486\n",
      "Hung Hom                     442\n",
      "Tuen Mun Castle Peak Road    415\n",
      "Sham Shui Po                 405\n",
      "Jordan                       378\n",
      "Name: district, dtype: int64\n"
     ]
    }
   ],
   "source": [
    "print(top_10_districts)"
   ]
  },
  {
   "cell_type": "code",
   "execution_count": 34,
   "id": "94efa8fc",
   "metadata": {},
   "outputs": [
    {
     "name": "stdout",
     "output_type": "stream",
     "text": [
      "Yuen Long: 5.55% \n",
      "Mong Kok: 3.79% \n",
      "Tsuen Wan: 3.74% \n",
      "Tai Po: 3.41% \n",
      "Tsim Sha Tsui: 3.29% \n",
      "Wan Chai: 3.24% \n",
      "Hung Hom: 2.95% \n",
      "Tuen Mun Castle Peak Road: 2.77% \n",
      "Sham Shui Po: 2.7% \n",
      "Jordan: 2.52% \n"
     ]
    }
   ],
   "source": [
    "for k, v in top_10_districts.items():\n",
    "    percentage = round(v / 15000 * 100, 2)\n",
    "    print(f\"{k}: {percentage}% \")"
   ]
  },
  {
   "cell_type": "markdown",
   "id": "33f967ce",
   "metadata": {},
   "source": [
    "### (A.2) The top 10 districts are as seen above"
   ]
  },
  {
   "cell_type": "markdown",
   "id": "9bed7f81",
   "metadata": {},
   "source": [
    "## (Q.3) What are the 10 most expensive, and 10 cheapest districts in terms of price per saleable sqft?"
   ]
  },
  {
   "cell_type": "code",
   "execution_count": 35,
   "id": "7d4ac930",
   "metadata": {},
   "outputs": [],
   "source": [
    "# Top 10 most expensive\n",
    "columns_to_sum = ['hkd/saleable_sqft']\n",
    "most_expensive = df.groupby('district')[columns_to_sum].mean().sort_values(by = 'hkd/saleable_sqft', ascending = False).head(10)\n",
    "\n",
    "# Top 10 cheapest\n",
    "columns_to_sum = ['hkd/saleable_sqft']\n",
    "cheapest = df.groupby('district')[columns_to_sum].mean().sort_values(by = 'hkd/saleable_sqft', ascending = True).head(10)"
   ]
  },
  {
   "cell_type": "markdown",
   "id": "c7600ed6",
   "metadata": {},
   "source": [
    "### Most expensive 10 districts"
   ]
  },
  {
   "cell_type": "code",
   "execution_count": 36,
   "id": "c4a15a91",
   "metadata": {},
   "outputs": [
    {
     "data": {
      "image/png": "[encoded data removed]",
      "text/plain": [
       "<Figure size 640x480 with 1 Axes>"
      ]
     },
     "metadata": {},
     "output_type": "display_data"
    }
   ],
   "source": [
    "most_expensive.plot.bar()\n",
    "plt.xlabel('District')\n",
    "plt.ylabel('Lease Price Per Sqft (HKD)')\n",
    "plt.title('Most Expensive Districts')\n",
    "plt.show()"
   ]
  },
  {
   "cell_type": "code",
   "execution_count": 37,
   "id": "9fd8eb3e",
   "metadata": {
    "scrolled": true
   },
   "outputs": [
    {
     "name": "stdout",
     "output_type": "stream",
     "text": [
      "                    hkd/saleable_sqft\n",
      "district                             \n",
      "The Peak                    74.135000\n",
      "Admiralty                   71.540000\n",
      "Repulse Bay                 60.090000\n",
      "Shouson Hill                60.020000\n",
      "Sai Ying Pun                58.842597\n",
      "Nam Cheong                  55.248571\n",
      "Mid-levels Central          54.477368\n",
      "Central                     53.662727\n",
      "Parkview                    53.480000\n",
      "Sai Wan Ho                  53.475922\n"
     ]
    }
   ],
   "source": [
    "print(most_expensive)"
   ]
  },
  {
   "cell_type": "markdown",
   "id": "d4a05f4b",
   "metadata": {},
   "source": [
    "### Cheapest 10 districts"
   ]
  },
  {
   "cell_type": "code",
   "execution_count": 38,
   "id": "973d1cf9",
   "metadata": {},
   "outputs": [
    {
     "data": {
      "image/png": "[encoded data removed]",
      "text/plain": [
       "<Figure size 640x480 with 1 Axes>"
      ]
     },
     "metadata": {},
     "output_type": "display_data"
    }
   ],
   "source": [
    "cheapest.plot.bar()\n",
    "plt.xlabel('District')\n",
    "plt.ylabel('Lease Price Per Saleable Sqft (HKD)')\n",
    "plt.title('Cheapest Districts')\n",
    "plt.show()"
   ]
  },
  {
   "cell_type": "code",
   "execution_count": 39,
   "id": "9d04115c",
   "metadata": {},
   "outputs": [
    {
     "name": "stdout",
     "output_type": "stream",
     "text": [
      "                     hkd/saleable_sqft\n",
      "district                              \n",
      "Lamma Island                 14.285000\n",
      "Cheung Chau                  17.455000\n",
      "Sheung Shui                  23.224514\n",
      "Fanling                      23.926793\n",
      "South Lantau Island          24.639375\n",
      "Peng Chau                    24.674000\n",
      "Yuen Long                    25.271872\n",
      "Tin Shui Wai                 25.366780\n",
      "Sai Kung                     26.669808\n",
      "Tuen Mun                     27.566045\n"
     ]
    }
   ],
   "source": [
    "print(cheapest)"
   ]
  },
  {
   "cell_type": "markdown",
   "id": "bf85edd0",
   "metadata": {},
   "source": [
    "### (A.3) The most expensive and cheapest districts can be seen above"
   ]
  },
  {
   "cell_type": "markdown",
   "id": "57340e55",
   "metadata": {},
   "source": [
    "## (Q.4) How much more expensive are listings with the tag \"Sea view\" compared to those without?"
   ]
  },
  {
   "cell_type": "code",
   "execution_count": 40,
   "id": "2b4f6c3d",
   "metadata": {},
   "outputs": [
    {
     "data": {
      "text/html": [
       "<div>\n",
       "<style scoped>\n",
       "    .dataframe tbody tr th:only-of-type {\n",
       "        vertical-align: middle;\n",
       "    }\n",
       "\n",
       "    .dataframe tbody tr th {\n",
       "        vertical-align: top;\n",
       "    }\n",
       "\n",
       "    .dataframe thead th {\n",
       "        text-align: right;\n",
       "    }\n",
       "</style>\n",
       "<table border=\"1\" class=\"dataframe\">\n",
       "  <thead>\n",
       "    <tr style=\"text-align: right;\">\n",
       "      <th></th>\n",
       "      <th>description</th>\n",
       "      <th>link</th>\n",
       "      <th>district</th>\n",
       "      <th>address_1</th>\n",
       "      <th>address_2</th>\n",
       "      <th>size</th>\n",
       "      <th>price</th>\n",
       "      <th>agency</th>\n",
       "      <th>tags</th>\n",
       "      <th>saleable_sqft</th>\n",
       "      <th>gross_sqft</th>\n",
       "      <th>hkd/saleable_sqft</th>\n",
       "    </tr>\n",
       "  </thead>\n",
       "  <tbody>\n",
       "    <tr>\n",
       "      <th>0</th>\n",
       "      <td>Kintetsu used duplex sky garden | with recharg...</td>\n",
       "      <td>https://www.28hse.com/en/rent/residential/prop...</td>\n",
       "      <td>Yuen Long</td>\n",
       "      <td>Village</td>\n",
       "      <td>House, High Floor</td>\n",
       "      <td>Saleable Area: 1,400 ft² @10.7</td>\n",
       "      <td>15000.0</td>\n",
       "      <td>Leader Properties Development Limited</td>\n",
       "      <td>['3 bedrooms , 2 bathrooms', 'Apartment', 'Vil...</td>\n",
       "      <td>1400.0</td>\n",
       "      <td></td>\n",
       "      <td>10.71</td>\n",
       "    </tr>\n",
       "    <tr>\n",
       "      <th>1</th>\n",
       "      <td>*Ever Bright*causeway bay near mtr station, ne...</td>\n",
       "      <td>https://www.28hse.com/en/rent/residential/prop...</td>\n",
       "      <td>Causeway Bay</td>\n",
       "      <td>Lockhart House</td>\n",
       "      <td>High Floor, Block A</td>\n",
       "      <td>Saleable Area: 447 ft² @41.4</td>\n",
       "      <td>18500.0</td>\n",
       "      <td>Ever Bright Realty Company Limited</td>\n",
       "      <td>['2 bedrooms , 1 bathrooms', 'Apartment']</td>\n",
       "      <td>447.0</td>\n",
       "      <td></td>\n",
       "      <td>41.39</td>\n",
       "    </tr>\n",
       "    <tr>\n",
       "      <th>2</th>\n",
       "      <td>Suite for rent at Sai Yeung Choi Street South,...</td>\n",
       "      <td>https://www.28hse.com/en/rent/residential/prop...</td>\n",
       "      <td>Mong Kok</td>\n",
       "      <td>Sai Yeung Building</td>\n",
       "      <td>Mid Floor, Middle Floor</td>\n",
       "      <td>Saleable Area: 150 ft² @56.7</td>\n",
       "      <td>8500.0</td>\n",
       "      <td>NaN</td>\n",
       "      <td>['Studio , 1 bathrooms', 'landlord', 'Western ...</td>\n",
       "      <td>150.0</td>\n",
       "      <td></td>\n",
       "      <td>56.67</td>\n",
       "    </tr>\n",
       "    <tr>\n",
       "      <th>3</th>\n",
       "      <td>1 activity room, suitable for single aristocra...</td>\n",
       "      <td>https://www.28hse.com/en/rent/residential/prop...</td>\n",
       "      <td>Kai Tak</td>\n",
       "      <td>K. Summit</td>\n",
       "      <td>Unit E, Low Floor, Tower 1B</td>\n",
       "      <td>Saleable Area: 287 ft² @53.3</td>\n",
       "      <td>15300.0</td>\n",
       "      <td>NaN</td>\n",
       "      <td>['1 bedrooms , 1 bathrooms', 'landlord', 'Apar...</td>\n",
       "      <td>287.0</td>\n",
       "      <td></td>\n",
       "      <td>53.31</td>\n",
       "    </tr>\n",
       "    <tr>\n",
       "      <th>4</th>\n",
       "      <td>✪✪[Big 2 bedrooms with a large kitchen, clean ...</td>\n",
       "      <td>https://www.28hse.com/en/rent/residential/prop...</td>\n",
       "      <td>Ho Man Tin</td>\n",
       "      <td>Mantin Heights</td>\n",
       "      <td>Mid Floor, Tower 9, Middle Floor</td>\n",
       "      <td>Saleable Area: 585 ft² @45.3</td>\n",
       "      <td>26500.0</td>\n",
       "      <td>Century 21 Links Properties Agency</td>\n",
       "      <td>['2 bedrooms , 1 bathrooms', 'Apartment', 'Sta...</td>\n",
       "      <td>585.0</td>\n",
       "      <td></td>\n",
       "      <td>45.30</td>\n",
       "    </tr>\n",
       "  </tbody>\n",
       "</table>\n",
       "</div>"
      ],
      "text/plain": [
       "                                         description  \\\n",
       "0  Kintetsu used duplex sky garden | with recharg...   \n",
       "1  *Ever Bright*causeway bay near mtr station, ne...   \n",
       "2  Suite for rent at Sai Yeung Choi Street South,...   \n",
       "3  1 activity room, suitable for single aristocra...   \n",
       "4  ✪✪[Big 2 bedrooms with a large kitchen, clean ...   \n",
       "\n",
       "                                                link      district  \\\n",
       "0  https://www.28hse.com/en/rent/residential/prop...     Yuen Long   \n",
       "1  https://www.28hse.com/en/rent/residential/prop...  Causeway Bay   \n",
       "2  https://www.28hse.com/en/rent/residential/prop...      Mong Kok   \n",
       "3  https://www.28hse.com/en/rent/residential/prop...       Kai Tak   \n",
       "4  https://www.28hse.com/en/rent/residential/prop...    Ho Man Tin   \n",
       "\n",
       "            address_1                         address_2  \\\n",
       "0             Village                 House, High Floor   \n",
       "1      Lockhart House               High Floor, Block A   \n",
       "2  Sai Yeung Building           Mid Floor, Middle Floor   \n",
       "3           K. Summit       Unit E, Low Floor, Tower 1B   \n",
       "4      Mantin Heights  Mid Floor, Tower 9, Middle Floor   \n",
       "\n",
       "                             size    price  \\\n",
       "0  Saleable Area: 1,400 ft² @10.7  15000.0   \n",
       "1    Saleable Area: 447 ft² @41.4  18500.0   \n",
       "2    Saleable Area: 150 ft² @56.7   8500.0   \n",
       "3    Saleable Area: 287 ft² @53.3  15300.0   \n",
       "4    Saleable Area: 585 ft² @45.3  26500.0   \n",
       "\n",
       "                                  agency  \\\n",
       "0  Leader Properties Development Limited   \n",
       "1     Ever Bright Realty Company Limited   \n",
       "2                                    NaN   \n",
       "3                                    NaN   \n",
       "4     Century 21 Links Properties Agency   \n",
       "\n",
       "                                                tags  saleable_sqft  \\\n",
       "0  ['3 bedrooms , 2 bathrooms', 'Apartment', 'Vil...         1400.0   \n",
       "1          ['2 bedrooms , 1 bathrooms', 'Apartment']          447.0   \n",
       "2  ['Studio , 1 bathrooms', 'landlord', 'Western ...          150.0   \n",
       "3  ['1 bedrooms , 1 bathrooms', 'landlord', 'Apar...          287.0   \n",
       "4  ['2 bedrooms , 1 bathrooms', 'Apartment', 'Sta...          585.0   \n",
       "\n",
       "  gross_sqft  hkd/saleable_sqft  \n",
       "0                         10.71  \n",
       "1                         41.39  \n",
       "2                         56.67  \n",
       "3                         53.31  \n",
       "4                         45.30  "
      ]
     },
     "execution_count": 40,
     "metadata": {},
     "output_type": "execute_result"
    }
   ],
   "source": [
    "df.head()"
   ]
  },
  {
   "cell_type": "code",
   "execution_count": 41,
   "id": "c8d26c53",
   "metadata": {},
   "outputs": [],
   "source": [
    "sea_view_mask = (df['tags'].str.contains('Sea view'))\n",
    "sea_view_df = df[sea_view_mask]"
   ]
  },
  {
   "cell_type": "code",
   "execution_count": 42,
   "id": "388949a4",
   "metadata": {},
   "outputs": [
    {
     "data": {
      "text/html": [
       "<div>\n",
       "<style scoped>\n",
       "    .dataframe tbody tr th:only-of-type {\n",
       "        vertical-align: middle;\n",
       "    }\n",
       "\n",
       "    .dataframe tbody tr th {\n",
       "        vertical-align: top;\n",
       "    }\n",
       "\n",
       "    .dataframe thead th {\n",
       "        text-align: right;\n",
       "    }\n",
       "</style>\n",
       "<table border=\"1\" class=\"dataframe\">\n",
       "  <thead>\n",
       "    <tr style=\"text-align: right;\">\n",
       "      <th></th>\n",
       "      <th>description</th>\n",
       "      <th>link</th>\n",
       "      <th>district</th>\n",
       "      <th>address_1</th>\n",
       "      <th>address_2</th>\n",
       "      <th>size</th>\n",
       "      <th>price</th>\n",
       "      <th>agency</th>\n",
       "      <th>tags</th>\n",
       "      <th>saleable_sqft</th>\n",
       "      <th>gross_sqft</th>\n",
       "      <th>hkd/saleable_sqft</th>\n",
       "    </tr>\n",
       "  </thead>\n",
       "  <tbody>\n",
       "    <tr>\n",
       "      <th>5</th>\n",
       "      <td>2 bedrooms fully seaview and pool view</td>\n",
       "      <td>https://www.28hse.com/en/rent/residential/prop...</td>\n",
       "      <td>Ma Wan</td>\n",
       "      <td>Park Island</td>\n",
       "      <td>Mid Floor, Block 7, Phase 2, Middle Floor</td>\n",
       "      <td>Saleable Area: 583 ft² @29.2</td>\n",
       "      <td>17000.0</td>\n",
       "      <td>Hong Kong Property</td>\n",
       "      <td>['2 bedrooms , 1 bathrooms', 'South east', 'Ap...</td>\n",
       "      <td>583.0</td>\n",
       "      <td></td>\n",
       "      <td>29.16</td>\n",
       "    </tr>\n",
       "    <tr>\n",
       "      <th>6</th>\n",
       "      <td>3 bedrooms with balcony deco renew</td>\n",
       "      <td>https://www.28hse.com/en/rent/residential/prop...</td>\n",
       "      <td>Ma Wan</td>\n",
       "      <td>Park Island</td>\n",
       "      <td>Unit A, High Floor, Block 23, Phase 3</td>\n",
       "      <td>Saleable Area: 607 ft² @29.7</td>\n",
       "      <td>18000.0</td>\n",
       "      <td>Hong Kong Property</td>\n",
       "      <td>['3 bedrooms , 1 bathrooms', 'North west', 'Ap...</td>\n",
       "      <td>607.0</td>\n",
       "      <td></td>\n",
       "      <td>29.65</td>\n",
       "    </tr>\n",
       "  </tbody>\n",
       "</table>\n",
       "</div>"
      ],
      "text/plain": [
       "                              description  \\\n",
       "5  2 bedrooms fully seaview and pool view   \n",
       "6      3 bedrooms with balcony deco renew   \n",
       "\n",
       "                                                link district    address_1  \\\n",
       "5  https://www.28hse.com/en/rent/residential/prop...   Ma Wan  Park Island   \n",
       "6  https://www.28hse.com/en/rent/residential/prop...   Ma Wan  Park Island   \n",
       "\n",
       "                                   address_2                          size  \\\n",
       "5  Mid Floor, Block 7, Phase 2, Middle Floor  Saleable Area: 583 ft² @29.2   \n",
       "6      Unit A, High Floor, Block 23, Phase 3  Saleable Area: 607 ft² @29.7   \n",
       "\n",
       "     price              agency  \\\n",
       "5  17000.0  Hong Kong Property   \n",
       "6  18000.0  Hong Kong Property   \n",
       "\n",
       "                                                tags  saleable_sqft  \\\n",
       "5  ['2 bedrooms , 1 bathrooms', 'South east', 'Ap...          583.0   \n",
       "6  ['3 bedrooms , 1 bathrooms', 'North west', 'Ap...          607.0   \n",
       "\n",
       "  gross_sqft  hkd/saleable_sqft  \n",
       "5                         29.16  \n",
       "6                         29.65  "
      ]
     },
     "execution_count": 42,
     "metadata": {},
     "output_type": "execute_result"
    }
   ],
   "source": [
    "sea_view_df.head(2)"
   ]
  },
  {
   "cell_type": "code",
   "execution_count": 43,
   "id": "940505ca",
   "metadata": {},
   "outputs": [],
   "source": [
    "non_sea_view_mask = (~df['tags'].str.contains('Sea view'))\n",
    "non_sea_view_df = df[non_sea_view_mask]"
   ]
  },
  {
   "cell_type": "code",
   "execution_count": 44,
   "id": "e7e1cba1",
   "metadata": {},
   "outputs": [
    {
     "data": {
      "text/html": [
       "<div>\n",
       "<style scoped>\n",
       "    .dataframe tbody tr th:only-of-type {\n",
       "        vertical-align: middle;\n",
       "    }\n",
       "\n",
       "    .dataframe tbody tr th {\n",
       "        vertical-align: top;\n",
       "    }\n",
       "\n",
       "    .dataframe thead th {\n",
       "        text-align: right;\n",
       "    }\n",
       "</style>\n",
       "<table border=\"1\" class=\"dataframe\">\n",
       "  <thead>\n",
       "    <tr style=\"text-align: right;\">\n",
       "      <th></th>\n",
       "      <th>description</th>\n",
       "      <th>link</th>\n",
       "      <th>district</th>\n",
       "      <th>address_1</th>\n",
       "      <th>address_2</th>\n",
       "      <th>size</th>\n",
       "      <th>price</th>\n",
       "      <th>agency</th>\n",
       "      <th>tags</th>\n",
       "      <th>saleable_sqft</th>\n",
       "      <th>gross_sqft</th>\n",
       "      <th>hkd/saleable_sqft</th>\n",
       "    </tr>\n",
       "  </thead>\n",
       "  <tbody>\n",
       "    <tr>\n",
       "      <th>0</th>\n",
       "      <td>Kintetsu used duplex sky garden | with recharg...</td>\n",
       "      <td>https://www.28hse.com/en/rent/residential/prop...</td>\n",
       "      <td>Yuen Long</td>\n",
       "      <td>Village</td>\n",
       "      <td>House, High Floor</td>\n",
       "      <td>Saleable Area: 1,400 ft² @10.7</td>\n",
       "      <td>15000.0</td>\n",
       "      <td>Leader Properties Development Limited</td>\n",
       "      <td>['3 bedrooms , 2 bathrooms', 'Apartment', 'Vil...</td>\n",
       "      <td>1400.0</td>\n",
       "      <td></td>\n",
       "      <td>10.71</td>\n",
       "    </tr>\n",
       "    <tr>\n",
       "      <th>1</th>\n",
       "      <td>*Ever Bright*causeway bay near mtr station, ne...</td>\n",
       "      <td>https://www.28hse.com/en/rent/residential/prop...</td>\n",
       "      <td>Causeway Bay</td>\n",
       "      <td>Lockhart House</td>\n",
       "      <td>High Floor, Block A</td>\n",
       "      <td>Saleable Area: 447 ft² @41.4</td>\n",
       "      <td>18500.0</td>\n",
       "      <td>Ever Bright Realty Company Limited</td>\n",
       "      <td>['2 bedrooms , 1 bathrooms', 'Apartment']</td>\n",
       "      <td>447.0</td>\n",
       "      <td></td>\n",
       "      <td>41.39</td>\n",
       "    </tr>\n",
       "  </tbody>\n",
       "</table>\n",
       "</div>"
      ],
      "text/plain": [
       "                                         description  \\\n",
       "0  Kintetsu used duplex sky garden | with recharg...   \n",
       "1  *Ever Bright*causeway bay near mtr station, ne...   \n",
       "\n",
       "                                                link      district  \\\n",
       "0  https://www.28hse.com/en/rent/residential/prop...     Yuen Long   \n",
       "1  https://www.28hse.com/en/rent/residential/prop...  Causeway Bay   \n",
       "\n",
       "        address_1            address_2                            size  \\\n",
       "0         Village    House, High Floor  Saleable Area: 1,400 ft² @10.7   \n",
       "1  Lockhart House  High Floor, Block A    Saleable Area: 447 ft² @41.4   \n",
       "\n",
       "     price                                 agency  \\\n",
       "0  15000.0  Leader Properties Development Limited   \n",
       "1  18500.0     Ever Bright Realty Company Limited   \n",
       "\n",
       "                                                tags  saleable_sqft  \\\n",
       "0  ['3 bedrooms , 2 bathrooms', 'Apartment', 'Vil...         1400.0   \n",
       "1          ['2 bedrooms , 1 bathrooms', 'Apartment']          447.0   \n",
       "\n",
       "  gross_sqft  hkd/saleable_sqft  \n",
       "0                         10.71  \n",
       "1                         41.39  "
      ]
     },
     "execution_count": 44,
     "metadata": {},
     "output_type": "execute_result"
    }
   ],
   "source": [
    "non_sea_view_df.head(2)"
   ]
  },
  {
   "cell_type": "code",
   "execution_count": 45,
   "id": "eb2cd89c",
   "metadata": {},
   "outputs": [
    {
     "data": {
      "text/plain": [
       "42.4811131059246"
      ]
     },
     "execution_count": 45,
     "metadata": {},
     "output_type": "execute_result"
    }
   ],
   "source": [
    "sea_view_df['hkd/saleable_sqft'].mean()"
   ]
  },
  {
   "cell_type": "code",
   "execution_count": 46,
   "id": "9819db1e",
   "metadata": {},
   "outputs": [
    {
     "data": {
      "text/plain": [
       "40.388710030490195"
      ]
     },
     "execution_count": 46,
     "metadata": {},
     "output_type": "execute_result"
    }
   ],
   "source": [
    "non_sea_view_df['hkd/saleable_sqft'].mean()"
   ]
  },
  {
   "cell_type": "code",
   "execution_count": 47,
   "id": "45c5c0f6",
   "metadata": {},
   "outputs": [
    {
     "data": {
      "text/plain": [
       "0.05174548155484021"
      ]
     },
     "execution_count": 47,
     "metadata": {},
     "output_type": "execute_result"
    }
   ],
   "source": [
    "(42.48-40.39)/40.39"
   ]
  },
  {
   "cell_type": "markdown",
   "id": "0626ba2b",
   "metadata": {},
   "source": [
    "### (A.4) Listings with the \"Sea view\" tag are on average HKD 42.48 / sqft vs HKD 40.39 /sqft for those without. Thus, in this dataset, they are only 5.2% more expensive."
   ]
  }
 ],
 "metadata": {
  "kernelspec": {
   "display_name": "Python 3 (ipykernel)",
   "language": "python",
   "name": "python3"
  },
  "language_info": {
   "codemirror_mode": {
    "name": "ipython",
    "version": 3
   },
   "file_extension": ".py",
   "mimetype": "text/x-python",
   "name": "python",
   "nbconvert_exporter": "python",
   "pygments_lexer": "ipython3",
   "version": "3.10.9"
  }
 },
 "nbformat": 4,
 "nbformat_minor": 5
}
